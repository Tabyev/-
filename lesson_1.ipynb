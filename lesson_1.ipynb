{
  "nbformat": 4,
  "nbformat_minor": 0,
  "metadata": {
    "colab": {
      "provenance": [],
      "include_colab_link": true
    },
    "kernelspec": {
      "name": "python3",
      "display_name": "Python 3"
    },
    "language_info": {
      "name": "python"
    }
  },
  "cells": [
    {
      "cell_type": "markdown",
      "metadata": {
        "id": "view-in-github",
        "colab_type": "text"
      },
      "source": [
        "<a href=\"https://colab.research.google.com/github/Tabyev/-/blob/main/lesson_1.ipynb\" target=\"_parent\"><img src=\"https://colab.research.google.com/assets/colab-badge.svg\" alt=\"Open In Colab\"/></a>"
      ]
    },
    {
      "cell_type": "markdown",
      "source": [
        "#Литералы"
      ],
      "metadata": {
        "id": "fLpBpCMJ49BR"
      }
    },
    {
      "cell_type": "code",
      "execution_count": null,
      "metadata": {
        "id": "TyorajdM43Ea"
      },
      "outputs": [],
      "source": [
        "5"
      ]
    },
    {
      "cell_type": "code",
      "source": [
        "15.2"
      ],
      "metadata": {
        "id": "YBsL_CoZ5BRn"
      },
      "execution_count": null,
      "outputs": []
    },
    {
      "cell_type": "code",
      "source": [
        "12/3"
      ],
      "metadata": {
        "id": "O4dKbGrX5CsU"
      },
      "execution_count": null,
      "outputs": []
    },
    {
      "cell_type": "code",
      "source": [
        "2+2"
      ],
      "metadata": {
        "id": "4gmXvePf5Fe0"
      },
      "execution_count": null,
      "outputs": []
    },
    {
      "cell_type": "code",
      "source": [
        "5-1"
      ],
      "metadata": {
        "id": "T5f-bLqB5Jd8"
      },
      "execution_count": null,
      "outputs": []
    },
    {
      "cell_type": "code",
      "source": [
        "2*9"
      ],
      "metadata": {
        "id": "phKe06AU5LQ3"
      },
      "execution_count": null,
      "outputs": []
    },
    {
      "cell_type": "code",
      "source": [
        "2**3"
      ],
      "metadata": {
        "id": "YxC7ZmpX5Ocx"
      },
      "execution_count": null,
      "outputs": []
    },
    {
      "cell_type": "code",
      "source": [
        "9**0.5"
      ],
      "metadata": {
        "id": "q1K5yqcx5k9r"
      },
      "execution_count": null,
      "outputs": []
    },
    {
      "cell_type": "code",
      "source": [
        "(2+2)*5"
      ],
      "metadata": {
        "id": "fi0RZg345vvk"
      },
      "execution_count": null,
      "outputs": []
    },
    {
      "cell_type": "markdown",
      "source": [
        "Найдите корень из 4761, отнимите 20, и найдите корень этого числа"
      ],
      "metadata": {
        "id": "X1RdiZux7yKj"
      }
    },
    {
      "cell_type": "code",
      "source": [
        "((4761**0.5)-20)**0.5"
      ],
      "metadata": {
        "id": "3lhfnsvX54xD",
        "colab": {
          "base_uri": "https://localhost:8080/"
        },
        "outputId": "195bd20f-de87-455e-b2ad-04a96140475b"
      },
      "execution_count": 1,
      "outputs": [
        {
          "output_type": "execute_result",
          "data": {
            "text/plain": [
              "7.0"
            ]
          },
          "metadata": {},
          "execution_count": 1
        }
      ]
    },
    {
      "cell_type": "markdown",
      "source": [
        "## Спец операции"
      ],
      "metadata": {
        "id": "IvG65rQT6Efb"
      }
    },
    {
      "cell_type": "code",
      "source": [
        "5/2"
      ],
      "metadata": {
        "id": "ZmzKFN6x6H5W"
      },
      "execution_count": null,
      "outputs": []
    },
    {
      "cell_type": "code",
      "source": [
        "5//2"
      ],
      "metadata": {
        "id": "CQIl4hVW6JLs"
      },
      "execution_count": null,
      "outputs": []
    },
    {
      "cell_type": "code",
      "source": [
        "5%2"
      ],
      "metadata": {
        "id": "PHDSgpoH6JdG"
      },
      "execution_count": null,
      "outputs": []
    },
    {
      "cell_type": "code",
      "source": [
        "abs(-34)"
      ],
      "metadata": {
        "id": "8s6zhBg26hJr",
        "colab": {
          "base_uri": "https://localhost:8080/"
        },
        "outputId": "f62c801c-d9a9-4444-d1e9-fd797e8abaf2"
      },
      "execution_count": 25,
      "outputs": [
        {
          "output_type": "execute_result",
          "data": {
            "text/plain": [
              "34"
            ]
          },
          "metadata": {},
          "execution_count": 25
        }
      ]
    },
    {
      "cell_type": "code",
      "source": [
        "round(2.5)"
      ],
      "metadata": {
        "id": "8wzMdlVW6iYU",
        "colab": {
          "base_uri": "https://localhost:8080/"
        },
        "outputId": "57fabf62-18bf-4ab4-f88c-8864365e803c"
      },
      "execution_count": 24,
      "outputs": [
        {
          "output_type": "execute_result",
          "data": {
            "text/plain": [
              "2"
            ]
          },
          "metadata": {},
          "execution_count": 24
        }
      ]
    },
    {
      "cell_type": "code",
      "source": [
        "round(3.5 )"
      ],
      "metadata": {
        "id": "GGlen8FN7XRt",
        "colab": {
          "base_uri": "https://localhost:8080/"
        },
        "outputId": "b9897bbc-ed3e-4062-dee5-de0aa2403f8d"
      },
      "execution_count": 22,
      "outputs": [
        {
          "output_type": "execute_result",
          "data": {
            "text/plain": [
              "4"
            ]
          },
          "metadata": {},
          "execution_count": 22
        }
      ]
    },
    {
      "cell_type": "code",
      "source": [
        "round(2.5555,2)"
      ],
      "metadata": {
        "id": "I0LqbUxb8QnC",
        "colab": {
          "base_uri": "https://localhost:8080/"
        },
        "outputId": "6dbc5cbf-083f-47ec-f810-0b91ea11d9e5"
      },
      "execution_count": 23,
      "outputs": [
        {
          "output_type": "execute_result",
          "data": {
            "text/plain": [
              "2.56"
            ]
          },
          "metadata": {},
          "execution_count": 23
        }
      ]
    },
    {
      "cell_type": "markdown",
      "source": [
        "Найдите остаток деления 10 на 3"
      ],
      "metadata": {
        "id": "XbUR3_j_8Dkp"
      }
    },
    {
      "cell_type": "code",
      "source": [
        "10%3"
      ],
      "metadata": {
        "id": "EGY5X4UT7hkc",
        "colab": {
          "base_uri": "https://localhost:8080/"
        },
        "outputId": "fb0ea2a8-cf80-457b-aeb7-15fcd46e22cf"
      },
      "execution_count": 2,
      "outputs": [
        {
          "output_type": "execute_result",
          "data": {
            "text/plain": [
              "1"
            ]
          },
          "metadata": {},
          "execution_count": 2
        }
      ]
    },
    {
      "cell_type": "markdown",
      "source": [
        "Найдите результат деления 111 на 33 и окрууглите его до 4 значений после точки  "
      ],
      "metadata": {
        "id": "GlZKJqt28I1I"
      }
    },
    {
      "cell_type": "code",
      "source": [
        "round(111/33,4)"
      ],
      "metadata": {
        "id": "KDq8dKmV7vpS",
        "colab": {
          "base_uri": "https://localhost:8080/"
        },
        "outputId": "e7be425d-8782-4a2e-cc1c-3a9f68803a3a"
      },
      "execution_count": 4,
      "outputs": [
        {
          "output_type": "execute_result",
          "data": {
            "text/plain": [
              "3.3636"
            ]
          },
          "metadata": {},
          "execution_count": 4
        }
      ]
    },
    {
      "cell_type": "markdown",
      "source": [
        "# Переменные"
      ],
      "metadata": {
        "id": "zGuDQLO37v5V"
      }
    },
    {
      "cell_type": "code",
      "source": [
        "x = 5"
      ],
      "metadata": {
        "id": "l3MN53Ul8uAd"
      },
      "execution_count": null,
      "outputs": []
    },
    {
      "cell_type": "code",
      "source": [
        "x"
      ],
      "metadata": {
        "id": "-zeHphZO8v_-"
      },
      "execution_count": null,
      "outputs": []
    },
    {
      "cell_type": "code",
      "source": [
        "print(x)"
      ],
      "metadata": {
        "id": "BwIl_qbS-Umq"
      },
      "execution_count": null,
      "outputs": []
    },
    {
      "cell_type": "code",
      "source": [
        "y = 2+2\n",
        "y\n",
        "5"
      ],
      "metadata": {
        "id": "qK6xtk82824O"
      },
      "execution_count": null,
      "outputs": []
    },
    {
      "cell_type": "code",
      "source": [
        "w = x+y\n",
        "w"
      ],
      "metadata": {
        "id": "fKDkrubE874M"
      },
      "execution_count": null,
      "outputs": []
    },
    {
      "cell_type": "code",
      "source": [
        "qwerty123 = 10\n",
        "r2352352 = 20\n",
        "_asdve = 20\n",
        "fiii_fooo = 31\n",
        "ADAW = 90\n",
        "# acc-caa = 31\n",
        "# 31ffd = 31"
      ],
      "metadata": {
        "id": "lndWJ6ii8-DS"
      },
      "execution_count": null,
      "outputs": []
    },
    {
      "cell_type": "markdown",
      "source": [
        "## int - float"
      ],
      "metadata": {
        "id": "quQ1iGLU9d-s"
      }
    },
    {
      "cell_type": "code",
      "source": [
        "i = 31"
      ],
      "metadata": {
        "id": "hGJJUoQf9lHD"
      },
      "execution_count": null,
      "outputs": []
    },
    {
      "cell_type": "code",
      "source": [
        "f = 413.4112"
      ],
      "metadata": {
        "id": "9ZCNq4OP9pf7"
      },
      "execution_count": null,
      "outputs": []
    },
    {
      "cell_type": "code",
      "source": [
        "int(f)"
      ],
      "metadata": {
        "id": "9Lvo2m_09sBG"
      },
      "execution_count": null,
      "outputs": []
    },
    {
      "cell_type": "code",
      "source": [
        "float(i)"
      ],
      "metadata": {
        "id": "2hfe2HVW9xb5"
      },
      "execution_count": null,
      "outputs": []
    },
    {
      "cell_type": "code",
      "source": [],
      "metadata": {
        "id": "EmfzZBCw91em"
      },
      "execution_count": null,
      "outputs": []
    },
    {
      "cell_type": "markdown",
      "source": [
        "# math"
      ],
      "metadata": {
        "id": "JNy-d44B-iEh"
      }
    },
    {
      "cell_type": "code",
      "source": [
        "import math"
      ],
      "metadata": {
        "id": "SkW5ZIOc-kC6"
      },
      "execution_count": null,
      "outputs": []
    },
    {
      "cell_type": "code",
      "source": [
        "math.ceil(4.3)"
      ],
      "metadata": {
        "id": "DiSoLmSr-m-g",
        "colab": {
          "base_uri": "https://localhost:8080/"
        },
        "outputId": "93bdb7d2-b3c5-4aef-bad3-a1c5e7778f75"
      },
      "execution_count": 5,
      "outputs": [
        {
          "output_type": "execute_result",
          "data": {
            "text/plain": [
              "5"
            ]
          },
          "metadata": {},
          "execution_count": 5
        }
      ]
    },
    {
      "cell_type": "code",
      "source": [
        "math.floor(4.6)"
      ],
      "metadata": {
        "id": "qqaYikNI-qic",
        "colab": {
          "base_uri": "https://localhost:8080/"
        },
        "outputId": "2d8aaeaa-66b4-4254-cea4-c45d462fa395"
      },
      "execution_count": 6,
      "outputs": [
        {
          "output_type": "execute_result",
          "data": {
            "text/plain": [
              "4"
            ]
          },
          "metadata": {},
          "execution_count": 6
        }
      ]
    },
    {
      "cell_type": "code",
      "source": [
        "math.cos(45)"
      ],
      "metadata": {
        "id": "-bq-hEIr-taL",
        "colab": {
          "base_uri": "https://localhost:8080/"
        },
        "outputId": "687a27e4-fd3b-421a-b428-93f1bffd2940"
      },
      "execution_count": 7,
      "outputs": [
        {
          "output_type": "execute_result",
          "data": {
            "text/plain": [
              "0.5253219888177297"
            ]
          },
          "metadata": {},
          "execution_count": 7
        }
      ]
    },
    {
      "cell_type": "code",
      "source": [
        "math.pow(4,2)"
      ],
      "metadata": {
        "id": "kAgHpwJA-uDC",
        "colab": {
          "base_uri": "https://localhost:8080/"
        },
        "outputId": "6d7a778e-0007-4ccc-d7f7-5f5d8edf4712"
      },
      "execution_count": 8,
      "outputs": [
        {
          "output_type": "execute_result",
          "data": {
            "text/plain": [
              "16.0"
            ]
          },
          "metadata": {},
          "execution_count": 8
        }
      ]
    },
    {
      "cell_type": "code",
      "source": [
        "math.sqrt(9)"
      ],
      "metadata": {
        "id": "A4J765tM_Ab6",
        "colab": {
          "base_uri": "https://localhost:8080/"
        },
        "outputId": "53350cf1-7852-4c7c-d686-8a1fcd2c7dda"
      },
      "execution_count": 9,
      "outputs": [
        {
          "output_type": "execute_result",
          "data": {
            "text/plain": [
              "3.0"
            ]
          },
          "metadata": {},
          "execution_count": 9
        }
      ]
    },
    {
      "cell_type": "code",
      "source": [
        "math.gcd(60,45)"
      ],
      "metadata": {
        "id": "IumosBxF_hq2",
        "colab": {
          "base_uri": "https://localhost:8080/"
        },
        "outputId": "21c92eda-2316-42dd-f3d6-5d3d24493334"
      },
      "execution_count": 10,
      "outputs": [
        {
          "output_type": "execute_result",
          "data": {
            "text/plain": [
              "15"
            ]
          },
          "metadata": {},
          "execution_count": 10
        }
      ]
    },
    {
      "cell_type": "code",
      "source": [],
      "metadata": {
        "id": "caW5o-ic__nh"
      },
      "execution_count": null,
      "outputs": []
    },
    {
      "cell_type": "code",
      "source": [],
      "metadata": {
        "id": "Kvu9M3fA_2HZ"
      },
      "execution_count": null,
      "outputs": []
    },
    {
      "cell_type": "markdown",
      "source": [
        "# Прочие фишки"
      ],
      "metadata": {
        "id": "dyXSx2jHAAev"
      }
    },
    {
      "cell_type": "code",
      "source": [
        "a,b,c = 1,2,3\n",
        "b"
      ],
      "metadata": {
        "id": "J648al9xADbw",
        "colab": {
          "base_uri": "https://localhost:8080/"
        },
        "outputId": "a2b62ff8-b581-46a0-a0b4-6bbbb74d570f"
      },
      "execution_count": 11,
      "outputs": [
        {
          "output_type": "execute_result",
          "data": {
            "text/plain": [
              "2"
            ]
          },
          "metadata": {},
          "execution_count": 11
        }
      ]
    },
    {
      "cell_type": "code",
      "source": [
        "max(3,1,0,-13,4, 3.999)"
      ],
      "metadata": {
        "id": "4mYiizesAGZ-",
        "colab": {
          "base_uri": "https://localhost:8080/"
        },
        "outputId": "ef3a3951-1295-4c6e-bc02-65435622ffef"
      },
      "execution_count": 12,
      "outputs": [
        {
          "output_type": "execute_result",
          "data": {
            "text/plain": [
              "4"
            ]
          },
          "metadata": {},
          "execution_count": 12
        }
      ]
    },
    {
      "cell_type": "code",
      "source": [
        "min(3,1,0,-13,4, 3.999)"
      ],
      "metadata": {
        "id": "JoLfEA4rAaei",
        "colab": {
          "base_uri": "https://localhost:8080/"
        },
        "outputId": "43f11420-a86f-4972-fdf9-c8125e23f68f"
      },
      "execution_count": 13,
      "outputs": [
        {
          "output_type": "execute_result",
          "data": {
            "text/plain": [
              "-13"
            ]
          },
          "metadata": {},
          "execution_count": 13
        }
      ]
    },
    {
      "cell_type": "code",
      "source": [
        "pow(4,3,3)"
      ],
      "metadata": {
        "id": "ZULdOWpbz2XI",
        "colab": {
          "base_uri": "https://localhost:8080/"
        },
        "outputId": "c90669be-45ae-4502-a39c-4d2c0021da83"
      },
      "execution_count": 14,
      "outputs": [
        {
          "output_type": "execute_result",
          "data": {
            "text/plain": [
              "1"
            ]
          },
          "metadata": {},
          "execution_count": 14
        }
      ]
    },
    {
      "cell_type": "code",
      "source": [
        "-(-5)"
      ],
      "metadata": {
        "id": "YXOV6R63AsV8",
        "colab": {
          "base_uri": "https://localhost:8080/"
        },
        "outputId": "95f3184d-87ab-4f8c-edbe-331d79fe4c30"
      },
      "execution_count": 16,
      "outputs": [
        {
          "output_type": "execute_result",
          "data": {
            "text/plain": [
              "5"
            ]
          },
          "metadata": {},
          "execution_count": 16
        }
      ]
    },
    {
      "cell_type": "code",
      "source": [
        "10/3"
      ],
      "metadata": {
        "id": "I9c3bnTXA15-",
        "colab": {
          "base_uri": "https://localhost:8080/"
        },
        "outputId": "732cef5d-f159-4c40-d285-5f79912da6ae"
      },
      "execution_count": 17,
      "outputs": [
        {
          "output_type": "execute_result",
          "data": {
            "text/plain": [
              "3.3333333333333335"
            ]
          },
          "metadata": {},
          "execution_count": 17
        }
      ]
    },
    {
      "cell_type": "code",
      "source": [
        "0.1+0.1+0.1+0.1+0.1+0.1+0.1+0.1+0.1+0.1"
      ],
      "metadata": {
        "id": "Y6AnoHLTBBXh",
        "colab": {
          "base_uri": "https://localhost:8080/"
        },
        "outputId": "f81a58ab-ef58-4e62-f597-c23d943d0b6a"
      },
      "execution_count": 18,
      "outputs": [
        {
          "output_type": "execute_result",
          "data": {
            "text/plain": [
              "0.9999999999999999"
            ]
          },
          "metadata": {},
          "execution_count": 18
        }
      ]
    },
    {
      "cell_type": "code",
      "source": [],
      "metadata": {
        "id": "3ePQ3dSoBFah"
      },
      "execution_count": null,
      "outputs": []
    },
    {
      "cell_type": "code",
      "source": [],
      "metadata": {
        "id": "m8Nbb2xsBUsE"
      },
      "execution_count": null,
      "outputs": []
    },
    {
      "cell_type": "markdown",
      "source": [
        "#Задачки"
      ],
      "metadata": {
        "id": "0delKDOSBefg"
      }
    },
    {
      "cell_type": "markdown",
      "source": [
        "##Запишите в виде кода следующие уравнения"
      ],
      "metadata": {
        "id": "nNVrl9iwni7D"
      }
    },
    {
      "cell_type": "markdown",
      "source": [
        "![Screenshot 2023-06-27 172901.png](data:image/png;base64,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)"
      ],
      "metadata": {
        "id": "kcavWd5jnqfv"
      }
    },
    {
      "cell_type": "code",
      "source": [
        "l,w,h=5,96,56\n",
        "v=l*w*h\n",
        "v"
      ],
      "metadata": {
        "id": "zXWg7fpoBgF-",
        "colab": {
          "base_uri": "https://localhost:8080/"
        },
        "outputId": "8db72085-dc47-4df3-9b37-bc6472847ccd"
      },
      "execution_count": 20,
      "outputs": [
        {
          "output_type": "execute_result",
          "data": {
            "text/plain": [
              "26880"
            ]
          },
          "metadata": {},
          "execution_count": 20
        }
      ]
    },
    {
      "cell_type": "markdown",
      "source": [
        "![Screenshot 2023-06-27 172848.png](data:image/png;base64,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)"
      ],
      "metadata": {
        "id": "Rgm8p-LUnsyd"
      }
    },
    {
      "cell_type": "code",
      "source": [
        "import math\n",
        "r,h=25,65\n",
        "v=round((math.pi*(r**2)*h)/3, 3)\n",
        "v"
      ],
      "metadata": {
        "id": "RQ_BY9BanuuH",
        "colab": {
          "base_uri": "https://localhost:8080/"
        },
        "outputId": "fdd94db3-96a3-41af-b7ac-2f252151ed98"
      },
      "execution_count": 30,
      "outputs": [
        {
          "output_type": "execute_result",
          "data": {
            "text/plain": [
              "42542.401"
            ]
          },
          "metadata": {},
          "execution_count": 30
        }
      ]
    },
    {
      "cell_type": "markdown",
      "source": [
        "![Screenshot 2023-06-27 172835.png](data:image/png;base64,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)"
      ],
      "metadata": {
        "id": "Z0ika7c0nvVd"
      }
    },
    {
      "cell_type": "code",
      "source": [
        "import math\n",
        "r,h=56,85\n",
        "v=round(math.pi*(r**2)*h,2)\n",
        "v"
      ],
      "metadata": {
        "id": "w9_TccENnweg",
        "colab": {
          "base_uri": "https://localhost:8080/"
        },
        "outputId": "36968da9-f9fb-4839-a2f7-f6c1f30addee"
      },
      "execution_count": 32,
      "outputs": [
        {
          "output_type": "execute_result",
          "data": {
            "text/plain": [
              "837422.94"
            ]
          },
          "metadata": {},
          "execution_count": 32
        }
      ]
    },
    {
      "cell_type": "markdown",
      "source": [
        "![Screenshot 2023-06-27 172912.png](data:image/png;base64,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)"
      ],
      "metadata": {
        "id": "oG94rxa6nxVZ"
      }
    },
    {
      "cell_type": "code",
      "source": [
        "import math\n",
        "r=65\n",
        "v=round(4/3*math.pi*r**3,2)\n",
        "v"
      ],
      "metadata": {
        "id": "wq7tc9J0nyqW",
        "colab": {
          "base_uri": "https://localhost:8080/"
        },
        "outputId": "2e76bdb8-c398-4ab8-eba7-dd9493a518c6"
      },
      "execution_count": 34,
      "outputs": [
        {
          "output_type": "execute_result",
          "data": {
            "text/plain": [
              "1150346.51"
            ]
          },
          "metadata": {},
          "execution_count": 34
        }
      ]
    },
    {
      "cell_type": "markdown",
      "source": [
        "## Примеры"
      ],
      "metadata": {
        "id": "q5wQqVCfovbn"
      }
    },
    {
      "cell_type": "markdown",
      "source": [
        "![изображение.png](data:image/png;base64,iVBORw0KGgoAAAANSUhEUgAAAHQAAAA5CAYAAADnXA+VAAAG/UlEQVR4Xu2bf0heVRjHv8KMiqj/IjZoLsemW64FkWQxGEuQVES3wrZ0NBvFMEklZThyxl6GhhomqzAXU7ek2kTUENYQRhlGUK42t6GpgRL9V0RFDuye++N97+97zrn3vb7ezvvX5j2/nufzPM895znPTVuVfhC/yGggTQCNDEtZEAE0WjwF0IjxFEAF0KhpIGLyiHeoABoxDURMHOGhAmjENBAxcYSHCqAR00DExBEeKoCuLw1UN72D7tiboS067PnMgkXaQ88OjuDflRW8VlEWGtAP+i/hrvR0HCkvDm1O/USRBUpA7il9FVeHPpQVHNaPzPtUcRW+GekNdV5NvsgC7f74M9ycXQg13GpKJWE3a2sGql9+3saObqMxrwJti+qjzYfww2QNHgvI4iILdOPjhfi85zTyntgVkKroh5n87hoOHD2O5e/HTJ0IzEbgoyG07iCPvkDRphaMBQg1IKDJtTp6VSotR7/8CkfqTuG3a+MUXVWlai33NWO177lEv4u1SKuZjP+/sGsKo/u9h31wVwHOdpxA0bPPJBrf6EJm/nngWD/mmrYpf5fHX0DDZQ2y99huLQIAmnyrYxXxUPVb+OvvfzDU2+bRlcC8jPKlTrxEWqoK/1mDalL2dKwUu8+ASvlFlXV44P77cL77bYtxGIxCNRhaQ/HShX+gIVidlxDm58Q7ao++iOOvH3bvaqNMBVoG+iXIOfK/l5FQtuLNM3oPc5jh9Hvn0NnziXeUIGsYzjdGBVaBde39A7WzsICtjkW+G7fnsXNvOUbOtRvDnc0gdh7n6oWy8U7gAEV4JGG/+HA9rk8MYse2LQ4iSNGtchwH+1J9UxSw1bEAJWfPqvpTWPx2GA9veoilq9yWAC1Da+IdpxthoDIXzdt17z+X0X9Z+hWbnyxBb/sJxzPpdKwWF0o71Q0S81JtO/j3UMuwwVsdi6h1J9+VQ93q0hRLN7WtFFIrpU2VflOExIbvEYpQq580bVOuHPo7Tr5hWYvBcCTPb5ypQSvFZstLqMCBJsPqvITQPyebkRnp/Dk3eYmlm9x2oLIW6FM3SI4hWnm/ypsoj19mXhmypfPoaF+HoaUlClyUgGZLQOWjjL9foEADtzopdBehk+qYoKmBKDF9wwbcvPopk2ZIOB0sUY8kjgpWjzjmo43DTFl7XsDKnTtG49J20oY+edRG4iVUYECTYnUcQDNyS/Do9kyLV7gpwgBTajgd68KPTTU2XqiGX9Bld0i0+OnWHBamhpXpTWfa+JpSLrGQLKvjAEreW4X7nqYHaqdkWcEFuEBSdAZ4bJkdAnTsytec73MvX7R/7t9Dk2l1SQaqHFGWrZpRQ6rsudKuNiZldUiuVWtPmwRYn0D5DImuFydQp50l3aTGVgRqxRXtbxupskRaa387bp7VptC3LY7eYiOX2/GBhNyGYxVobarm00iAvRpj3Wg707/OQm6ACrAMxemhAigDFOIBfn5MB35OoF4h168Mevnd5Plfh1xbI+EEyrTL9WOdHn3FpsisIAGU2dz8H1uYp2TowAGUJ7HAsCKmppbEAlNvvsbcQI27UrftPMmuvI+cSbr8J58YiV68qT9lBClxkDeLmLnGx3DWpj+62Kb+/Aro0Z8LqP4SmCSplbOaQz5SVgYCy1V66cNPcl6Wa2yvoWjLKCv9BTdZp1Ny3ksGP8+5gCoAdZaqpv6yLfU2xOJ7MLOYgRbKGwo/wpC+3DtLSYaiVyYwBj1QArAHOykutO3W7XZ95ldOp/5cQC2DOXihnOQuBZrz50MDynvBPSCtNSdrHrvbt8Q91M5jaUHQXHDTjsXSLgCgyg3E9XpTNRyx+KECjJaOS2Ub4QFlKUGJK0rbfEF6PeiAypEIzehHSzz9R5vHpStBYUFF19YH0ET5o1VIXdWCHI7DA0rEpi4S0zZCWpUCiTRxoIlKhbh8DDVF1EVidJyoW/kAmphDtuTZxB2hoWphDYCSMs7f//iT6grNUKVgB9R096l5raF210bdpVUNuPeeu41lnNRY+BsGAlSrZ5ULiKUQK4darZB4DYBSF1qbz7l2QLcaC69p36u2hdb8nKh7BgNUK+mX7hH17xvLKihLN6hX79LQ+1MIU7W/aSxyo9Nyq0J+h+q90Xxks1uC86cQQUjmPgYHUJu6GnPFuX7OkM+h2tQ8HytZvM/gscrINCHX/WOl5ELlAKp++lDfioP7lZt8y7lUXrPVA1jLIP2IzvZZn+n7FmliZSOk/B3a+ZpiU7RWnzFquuIAagcruKo1PxDNfYP54FcP2zvtJz74DZKgzVhhfyIf9nxmkTk9NMkUxPDcGhBAuVWXmh0F0NTkwr0qAZRbdanZUQBNTS7cqxJAuVWXmh0F0NTkwr0qAZRbdanZ8T8nEbWSbbFTmAAAAABJRU5ErkJggg==)"
      ],
      "metadata": {
        "id": "PJ5TVQm9o2Pj"
      }
    },
    {
      "cell_type": "code",
      "source": [
        "2/34+(23/46)**2"
      ],
      "metadata": {
        "id": "6yKS-loco1iA",
        "colab": {
          "base_uri": "https://localhost:8080/"
        },
        "outputId": "5ec63483-0049-4242-ac80-c7bb5f3c1717"
      },
      "execution_count": 35,
      "outputs": [
        {
          "output_type": "execute_result",
          "data": {
            "text/plain": [
              "0.3088235294117647"
            ]
          },
          "metadata": {},
          "execution_count": 35
        }
      ]
    },
    {
      "cell_type": "markdown",
      "source": [
        "![изображение.png](data:image/png;base64,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)"
      ],
      "metadata": {
        "id": "MsvV1H5lo6MN"
      }
    },
    {
      "cell_type": "code",
      "source": [
        "(2.5-2.25**0.5)/2**2+2.625/3.5"
      ],
      "metadata": {
        "id": "qAyXlw0Tpk50",
        "colab": {
          "base_uri": "https://localhost:8080/"
        },
        "outputId": "9cce4b4b-284f-4719-c1ee-fb0d593f50f1"
      },
      "execution_count": 36,
      "outputs": [
        {
          "output_type": "execute_result",
          "data": {
            "text/plain": [
              "1.0"
            ]
          },
          "metadata": {},
          "execution_count": 36
        }
      ]
    },
    {
      "cell_type": "markdown",
      "source": [
        "![изображение.png](data:image/png;base64,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)"
      ],
      "metadata": {
        "id": "Xy6TPftApmPi"
      }
    },
    {
      "cell_type": "code",
      "source": [
        "100/25+(25/100)/(100/25)-10**2+100*0.5"
      ],
      "metadata": {
        "id": "mYtiCfydvN2i",
        "colab": {
          "base_uri": "https://localhost:8080/"
        },
        "outputId": "cdcba3ce-be87-4e0f-b863-0381c267c763"
      },
      "execution_count": 37,
      "outputs": [
        {
          "output_type": "execute_result",
          "data": {
            "text/plain": [
              "-45.9375"
            ]
          },
          "metadata": {},
          "execution_count": 37
        }
      ]
    },
    {
      "cell_type": "markdown",
      "source": [
        "![изображение.png](data:image/png;base64,iVBORw0KGgoAAAANSUhEUgAAADQAAAAuCAYAAABnNToWAAACY0lEQVRoQ+2YO0sDQRSFz/4NLXyBEkW0E9KJ2KggPgpBk87GIhAELSxCCgsFEVLY2GkEGxFBbYKkC9gpoqL4LPRvxN2d3WQnmZXMg9ndsFsmuTvnmzP3zr0xquaDNnqMGCjkbsYOhdwgxA7FDmnegfjIad5w7uU0O3SNmc48rlyZEzlUj6a4Rf8XoBHIgilh6WcfK5aipwL6Jk/woRhKH9BZFkamgunCLS4XyB7fb89h9KAbxy6kAq+0ARHxwEbpHDuDXiD6M1kmbUAsoRbkPHbwvtUvy1GLDxDIzKk0cBndokCbUExngSOnQCjzB2K9XDE9htRNo4pky8ltxZ/OOsXhrIDNRKaWV7JsQkeuEah37bjlPKBg7EpXwMNWhpRyBY8YkCli2BQxwivAKd1UWNcy7ioC7/JZWxsQKdu/zTLCcLEWTYeAMlKuQMW7zGu89/diDplJnRuo542dU29qj44olBBQ02JOX5bwtDWigmTj1ACBdNHPHNVOVrhfPDcQu6F0xgJPghudY1Kaqz+3QvHcQOQO6qCaTETZIbBudvt++WqAFNpg6SBuh4gbhxiqjQHNx61JlQV8McmYTl+xmUxh95tE8HQcynKIvIgepf2EUC0S4wK1vq+XfwL3uF4fAEXsEnCIfxm7kLys0g7Zpf4Tee+0ajm51yPVCgUGZENejdPiWZCc+xdCoDIWPWM6J4/YPMS7COvIMdslBR1HYA61HZB/DkX0yLUdEPnnNGJlmzmlei5YO4/g/r9NLmtIjiBaioJ/VQxN68NbuPX9PmCH1IPGQOr3VO0bY4fU7qf6t/0Bk8X3hspWz3QAAAAASUVORK5CYII=)"
      ],
      "metadata": {
        "id": "O7IhrTxEvXHw"
      }
    },
    {
      "cell_type": "code",
      "source": [
        "(5*10+2)/10"
      ],
      "metadata": {
        "id": "-FoopiuOvXa0",
        "colab": {
          "base_uri": "https://localhost:8080/"
        },
        "outputId": "12d4125a-d020-4354-8913-d205e2196fa1"
      },
      "execution_count": 38,
      "outputs": [
        {
          "output_type": "execute_result",
          "data": {
            "text/plain": [
              "5.2"
            ]
          },
          "metadata": {},
          "execution_count": 38
        }
      ]
    }
  ]
}